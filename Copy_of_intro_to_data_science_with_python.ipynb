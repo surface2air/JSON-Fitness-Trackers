{
  "nbformat": 4,
  "nbformat_minor": 0,
  "metadata": {
    "colab": {
      "name": "Copy of intro_to_data_science_with_python.ipynb",
      "version": "0.3.2",
      "provenance": [],
      "collapsed_sections": [
        "UWyzV6cVTA7q"
      ],
      "include_colab_link": true
    },
    "kernelspec": {
      "name": "python3",
      "display_name": "Python 3"
    }
  },
  "cells": [
    {
      "cell_type": "markdown",
      "metadata": {
        "id": "view-in-github",
        "colab_type": "text"
      },
      "source": [
        "<a href=\"https://colab.research.google.com/github/surface2air/JSON-Fitness-Trackers/blob/master/Copy_of_intro_to_data_science_with_python.ipynb\" target=\"_parent\"><img src=\"https://colab.research.google.com/assets/colab-badge.svg\" alt=\"Open In Colab\"/></a>"
      ]
    },
    {
      "metadata": {
        "id": "yu07mcYFqxad",
        "colab_type": "text"
      },
      "cell_type": "markdown",
      "source": [
        "# Intro to Data Science with Python\n"
      ]
    },
    {
      "metadata": {
        "id": "-XPesf2wlwuK",
        "colab_type": "text"
      },
      "cell_type": "markdown",
      "source": [
        "Pandas is an open source library for python providing tools for data analysis. In this workshop we're only going to use it to do an Exploratory Data Analysis (EDA) and learn about our data, but it can do much more that we will not have time to cover!\n",
        "\n",
        "You can use it for \n",
        "\n",
        "- Loading Data\n",
        "- Cleaning / Preparing\n",
        "- Wrangling  (taking in raw data and transforming it)\n",
        "- Filtering & Querying\n",
        "- Create Data Frames (Excel looking things)\n",
        "- Plotting / making charts \n",
        "- more\n",
        "\n",
        "Learn more about Pandas! You willl likley be using it a lot as a Data Scientist!\n",
        "\n",
        "[Read the docs](https://pandas.pydata.org/)\n",
        "\n",
        "[Pandas get started in in 10 min Guide](https://pandas.pydata.org/pandas-docs/stable/getting_started/10min.html) is a good place to start.\n",
        "\n",
        "[Python for Data Analysis ](https://www.amazon.com/Python-Data-Analysis-Wrangling-IPython/dp/1491957662/) by Wes McKinney is a great book to dive deeper into working with data and python. \n"
      ]
    },
    {
      "metadata": {
        "id": "kOx-Kuwmr3iJ",
        "colab_type": "text"
      },
      "cell_type": "markdown",
      "source": [
        "# Looking at Data with Pandas"
      ]
    },
    {
      "metadata": {
        "id": "nNEkGK2pxQ1j",
        "colab_type": "text"
      },
      "cell_type": "markdown",
      "source": [
        "We're going to use a Dataset built in to sklearn.\n",
        "\n",
        "sklearn has 7 built in datasets to easiliy start playing with. check out the whole list [here](https://scikit-learn.org/stable/datasets/index.html)\n",
        "\n",
        "We're going to use the famous [irsi datatset](https://en.wikipedia.org/wiki/Iris_flower_data_set). Which contains data about flowers. \n"
      ]
    },
    {
      "metadata": {
        "id": "wpeYWuNwsNFE",
        "colab_type": "code",
        "colab": {}
      },
      "cell_type": "code",
      "source": [
        "# Import iris dataset\n",
        "from sklearn.datasets import load_iris\n"
      ],
      "execution_count": 0,
      "outputs": []
    },
    {
      "metadata": {
        "id": "avs8IAauuvzV",
        "colab_type": "code",
        "colab": {}
      },
      "cell_type": "code",
      "source": [
        "iris = load_iris()\n",
        "\n"
      ],
      "execution_count": 0,
      "outputs": []
    },
    {
      "metadata": {
        "id": "9xmiKiKH4sq_",
        "colab_type": "code",
        "colab": {}
      },
      "cell_type": "code",
      "source": [
        "# If we didn't know the key value pairs in the data we could find out like this:\n",
        "\n",
        "print(iris.keys())\n",
        "\n",
        "#150 rows (samples) 4 columns (features: Height & Width of Pedals & Sepals) \n",
        "print(iris.data.shape)"
      ],
      "execution_count": 0,
      "outputs": []
    },
    {
      "metadata": {
        "id": "f9SLw0Ze3gfF",
        "colab_type": "code",
        "colab": {}
      },
      "cell_type": "code",
      "source": [
        "iris.feature_names"
      ],
      "execution_count": 0,
      "outputs": []
    },
    {
      "metadata": {
        "id": "byOioAXv3Z3G",
        "colab_type": "code",
        "colab": {}
      },
      "cell_type": "code",
      "source": [
        "iris.data"
      ],
      "execution_count": 0,
      "outputs": []
    },
    {
      "metadata": {
        "id": "opkgYlYY4Ugv",
        "colab_type": "code",
        "outputId": "6c1659d1-b036-4478-b5d0-5a6e7d9f3e92",
        "colab": {
          "base_uri": "https://localhost:8080/",
          "height": 34
        }
      },
      "cell_type": "code",
      "source": [
        "# print out the list of lables\n",
        "print(\"Types of iris: {}\".format(iris['target_names']))"
      ],
      "execution_count": 0,
      "outputs": [
        {
          "output_type": "stream",
          "text": [
            "Types of iris: ['setosa' 'versicolor' 'virginica']\n"
          ],
          "name": "stdout"
        }
      ]
    },
    {
      "metadata": {
        "id": "agBoB50S3UmQ",
        "colab_type": "code",
        "colab": {}
      },
      "cell_type": "code",
      "source": [
        "iris.target"
      ],
      "execution_count": 0,
      "outputs": []
    },
    {
      "metadata": {
        "id": "ML4IAK9j4guk",
        "colab_type": "code",
        "colab": {}
      },
      "cell_type": "code",
      "source": [
        "# Print out a list of feature names\n",
        "print(\"Feature names: \\n{}\".format(iris['feature_names']))"
      ],
      "execution_count": 0,
      "outputs": []
    },
    {
      "metadata": {
        "id": "4CdNCSJO4mql",
        "colab_type": "code",
        "colab": {}
      },
      "cell_type": "code",
      "source": [
        "# print out the first 5 sets of features from each flower\n",
        "print(\"Sample Data:\\n{}\".format(iris['data'][:5]))"
      ],
      "execution_count": 0,
      "outputs": []
    },
    {
      "metadata": {
        "id": "jOnOIgGt44zX",
        "colab_type": "text"
      },
      "cell_type": "markdown",
      "source": [
        "## Pandas Data Frames"
      ]
    },
    {
      "metadata": {
        "id": "6TO92A273deq",
        "colab_type": "text"
      },
      "cell_type": "markdown",
      "source": [
        "[Visit Pandas Docs here](https://pandas.pydata.org/)\n",
        "\n",
        "pandas is a software library written for the Python for data manipulation and analysis.[pa]\n",
        "\n",
        "A really neat feature of Pandas is creating DataFrames\n",
        "\n",
        "Data Frames are 2-dimensional labeled data structure with columns. Very similar looking to a spreadsheet.\n",
        "\n",
        "Lets use a dataframe to look more at our data!"
      ]
    },
    {
      "metadata": {
        "id": "nbHETU935QEj",
        "colab_type": "code",
        "colab": {}
      },
      "cell_type": "code",
      "source": [
        "#import Pandas\n",
        "import pandas as pd"
      ],
      "execution_count": 0,
      "outputs": []
    },
    {
      "metadata": {
        "id": "MFWUSFEqwwgB",
        "colab_type": "code",
        "colab": {}
      },
      "cell_type": "code",
      "source": [
        "# Make a Dataframe\n",
        "df = pd.DataFrame(iris.data, columns=iris.feature_names)\n"
      ],
      "execution_count": 0,
      "outputs": []
    },
    {
      "metadata": {
        "id": "wZXeZaDFwpOG",
        "colab_type": "code",
        "colab": {}
      },
      "cell_type": "code",
      "source": [
        "# returns first 5 rows(default)\n",
        "df.tail()"
      ],
      "execution_count": 0,
      "outputs": []
    },
    {
      "metadata": {
        "id": "J33QsRjuvrx6",
        "colab_type": "code",
        "colab": {}
      },
      "cell_type": "code",
      "source": [
        "df"
      ],
      "execution_count": 0,
      "outputs": []
    },
    {
      "metadata": {
        "id": "tc5D_8eh62rK",
        "colab_type": "code",
        "colab": {}
      },
      "cell_type": "code",
      "source": [
        "# Change settings to display all of our rows. \n",
        "pd.options.display.max_rows = 200"
      ],
      "execution_count": 0,
      "outputs": []
    },
    {
      "metadata": {
        "id": "yjb27cWb64o4",
        "colab_type": "code",
        "colab": {}
      },
      "cell_type": "code",
      "source": [
        "df"
      ],
      "execution_count": 0,
      "outputs": []
    },
    {
      "metadata": {
        "id": "Ski-LTm_4zF8",
        "colab_type": "text"
      },
      "cell_type": "markdown",
      "source": [
        "## Make better data frame\n",
        "\n",
        "We're not going to cover much `numpy` in this workshop but I absolutley suggest you read more about it after! You can do that [here](http://www.numpy.org/)\n",
        "\n",
        "Numpy is a library for the Python programming language, adding support for large, multi-dimensional arrays and matrices, along with a large collection of high-level mathematical functions to operate on these arrays.\n",
        "\n",
        "You'll come accross it again as you keep learning about data science!\n",
        "\n",
        "We're using a function of it it here to essentially combine our iris `target` data onto our already exsiting iris data\n",
        "\n",
        "read more about it [here](https://docs.scipy.org/doc/numpy/reference/generated/numpy.c_.html)\n",
        "\n",
        "\n",
        "\n",
        "\n"
      ]
    },
    {
      "metadata": {
        "id": "U40wdabY4FCk",
        "colab_type": "code",
        "colab": {}
      },
      "cell_type": "code",
      "source": [
        "import numpy as np\n",
        "betterdf = pd.DataFrame(data= np.c_[iris['data'], iris['target']],\n",
        "                     columns= iris['feature_names'] + ['target'])"
      ],
      "execution_count": 0,
      "outputs": []
    },
    {
      "metadata": {
        "id": "SDGVuWeq5EVp",
        "colab_type": "code",
        "colab": {}
      },
      "cell_type": "code",
      "source": [
        "betterdf.head()"
      ],
      "execution_count": 0,
      "outputs": []
    },
    {
      "metadata": {
        "id": "EspE5MtC4NKV",
        "colab_type": "code",
        "colab": {}
      },
      "cell_type": "code",
      "source": [
        "# Print out longer list to see target value change\n",
        "betterdf"
      ],
      "execution_count": 0,
      "outputs": []
    },
    {
      "metadata": {
        "id": "5nCX9axfyhxI",
        "colab_type": "text"
      },
      "cell_type": "markdown",
      "source": [
        "# Plotting with Pandas\n",
        "\n",
        "Read more about plotting and charts [here](https://pandas.pydata.org/pandas-docs/stable/reference/api/pandas.DataFrame.plot.html)\n",
        "\n",
        "Dataframes are great for initally looking at our data, but a chart is often much easier for us humans to see patterns!\n",
        "\n",
        "Lets make a quick chart for exploring our iris dataset!\n"
      ]
    },
    {
      "metadata": {
        "id": "7rKQTC2izqYh",
        "colab_type": "code",
        "colab": {}
      },
      "cell_type": "code",
      "source": [
        "# What are our feature (column) names again?\n",
        "\n",
        "iris.feature_names\n"
      ],
      "execution_count": 0,
      "outputs": []
    },
    {
      "metadata": {
        "id": "6-5vhQg_ylWO",
        "colab_type": "code",
        "colab": {}
      },
      "cell_type": "code",
      "source": [
        "betterdf.plot(kind='scatter', x = 'sepal length (cm)', y = 'petal width (cm)', c='target')"
      ],
      "execution_count": 0,
      "outputs": []
    },
    {
      "metadata": {
        "id": "fKtya2nrSFzG",
        "colab_type": "text"
      },
      "cell_type": "markdown",
      "source": [
        "Lets add a more human freindly color!"
      ]
    },
    {
      "metadata": {
        "id": "RpU7LMPUQJhd",
        "colab_type": "code",
        "colab": {}
      },
      "cell_type": "code",
      "source": [
        "# Add color map at the end\n",
        "betterdf.plot(kind='scatter', x = 'sepal length (cm)', y = 'petal width (cm)', c='target', cmap=('spring'))"
      ],
      "execution_count": 0,
      "outputs": []
    },
    {
      "metadata": {
        "id": "9Bz028E_X6rO",
        "colab_type": "code",
        "colab": {}
      },
      "cell_type": "code",
      "source": [
        "# Lets clean it up a bit more!\n",
        "# Limit the color to three. \n",
        "# Clean up formatting\n",
        "\n",
        "# Reaching the limitations of whats built into dataframe plots\n",
        "# We can import matplot lib and start using more of custimization. \n",
        "\n",
        "import matplotlib.pyplot as plt\n",
        "\n",
        "betterdf.plot(kind='scatter', \n",
        "              x = 'sepal length (cm)', \n",
        "              y = 'petal width (cm)', \n",
        "              c='target',\n",
        "              cmap=plt.cm.get_cmap('spring',3));"
      ],
      "execution_count": 0,
      "outputs": []
    },
    {
      "metadata": {
        "id": "mJvHLDMZUvW-",
        "colab_type": "code",
        "colab": {}
      },
      "cell_type": "code",
      "source": [
        "print(iris.target_names)"
      ],
      "execution_count": 0,
      "outputs": []
    },
    {
      "metadata": {
        "id": "70ItHN0sSuTX",
        "colab_type": "text"
      },
      "cell_type": "markdown",
      "source": [
        "**Challenge!**\n",
        "\n",
        "Do an exploratory analysis of one of the other built in [Data Sets!](https://scikit-learn.org/stable/datasets/index.html)\n",
        "\n",
        "Make a data frame and look at the data\n",
        "\n",
        "Make a chart, play around with different chart types to see what works best \n",
        "\n",
        "Just try things and see what happens! Don't be afraid of breaking anything!\n",
        "\n",
        "If we don't do this in class come back to this spot and do it later!\n"
      ]
    },
    {
      "metadata": {
        "id": "Me0N03t_TASy",
        "colab_type": "code",
        "colab": {}
      },
      "cell_type": "code",
      "source": [
        "# Get started \n",
        "# Edit the code below to try a new dataset!\n",
        "\n",
        "# Import wine dataset\n",
        "from sklearn.datasets import load_wine\n",
        "\n",
        "wine = load_wine()\n",
        "\n",
        "\n",
        "\n"
      ],
      "execution_count": 0,
      "outputs": []
    },
    {
      "metadata": {
        "id": "UWyzV6cVTA7q",
        "colab_type": "text"
      },
      "cell_type": "markdown",
      "source": [
        "### A Solution / Example | Try on your Own first!"
      ]
    },
    {
      "metadata": {
        "id": "YXG9a54NTFlr",
        "colab_type": "code",
        "colab": {}
      },
      "cell_type": "code",
      "source": [
        "# Import wine dataset\n",
        "from sklearn.datasets import load_wine\n",
        "\n",
        "wine = load_wine()\n"
      ],
      "execution_count": 0,
      "outputs": []
    },
    {
      "metadata": {
        "id": "QV7ual1l-aWU",
        "colab_type": "code",
        "colab": {}
      },
      "cell_type": "code",
      "source": [
        "# If we didn't know the key value pairs in the data we could find out like this:\n",
        "print(wine.keys())\n",
        "\n",
        "#150 rows (samples) 4 columns (features: Height & Width of Pedals & Sepals) \n",
        "print(wine.data.shape)"
      ],
      "execution_count": 0,
      "outputs": []
    },
    {
      "metadata": {
        "id": "A8E_EAGq-gaB",
        "colab_type": "code",
        "colab": {}
      },
      "cell_type": "code",
      "source": [
        "print(wine.target_names)"
      ],
      "execution_count": 0,
      "outputs": []
    },
    {
      "metadata": {
        "id": "IALzt3zz9-b0",
        "colab_type": "code",
        "colab": {}
      },
      "cell_type": "code",
      "source": [
        "# Make a Dataframe\n",
        "winedf = pd.DataFrame(wine.data, columns=wine.feature_names)"
      ],
      "execution_count": 0,
      "outputs": []
    },
    {
      "metadata": {
        "id": "bCaaChvu-Clw",
        "colab_type": "code",
        "colab": {}
      },
      "cell_type": "code",
      "source": [
        "winedf"
      ],
      "execution_count": 0,
      "outputs": []
    },
    {
      "metadata": {
        "id": "Ad6z8jQq-zYI",
        "colab_type": "code",
        "colab": {}
      },
      "cell_type": "code",
      "source": [
        "import numpy as np\n",
        "betterwinedf = pd.DataFrame(data= np.c_[wine['data'], wine['target']],\n",
        "                     columns= wine['feature_names'] + ['target'])"
      ],
      "execution_count": 0,
      "outputs": []
    },
    {
      "metadata": {
        "id": "LI_kibYx-6SG",
        "colab_type": "code",
        "colab": {}
      },
      "cell_type": "code",
      "source": [
        "betterwinedf"
      ],
      "execution_count": 0,
      "outputs": []
    },
    {
      "metadata": {
        "id": "DsFBrzqW_D_Q",
        "colab_type": "code",
        "colab": {}
      },
      "cell_type": "code",
      "source": [
        "betterwinedf.plot(kind='scatter', \n",
        "              x = 'flavanoids', \n",
        "              y = 'color_intensity', \n",
        "              c='target',\n",
        "              cmap=plt.cm.get_cmap('spring',3));"
      ],
      "execution_count": 0,
      "outputs": []
    },
    {
      "metadata": {
        "id": "C9Jusitwr_Jm",
        "colab_type": "text"
      },
      "cell_type": "markdown",
      "source": [
        "# Visualize Data better with Matplotlib"
      ]
    },
    {
      "metadata": {
        "id": "k0XnVoDe-lkL",
        "colab_type": "text"
      },
      "cell_type": "markdown",
      "source": [
        "Using the `.plot` feature on a dataframe is a great quick way to look at your data. \n",
        "You probably noticed that it even used the `matplotlib` library. You can take even more control of your visualization using libraries like [Matplotlib](https://matplotlib.org/) or [Seaborn](https://seaborn.pydata.org/index.html)."
      ]
    },
    {
      "metadata": {
        "id": "11d9LMXvRZQw",
        "colab_type": "code",
        "colab": {}
      },
      "cell_type": "code",
      "source": [
        "\n",
        "%matplotlib inline\n",
        "import matplotlib.pyplot as plt\n",
        "\n",
        "# choose x & y index values. \n",
        "# Remember our list looks like this\n",
        "# ['sepal length (cm)',\n",
        "#  'sepal width (cm)',\n",
        "#  'petal length (cm)',\n",
        "#  'petal width (cm)']\n",
        "\n",
        "# 0 = sepal length (cm)\n",
        "# 3 = petal width (cm)\n",
        "x_index = 0\n",
        "y_index = 3\n",
        "\n",
        "# this formatter will label the colorbar with the correct target names\n",
        "# Look up lambda functions in python, they're neat!\n",
        "formatter = plt.FuncFormatter(lambda i, *args: iris.target_names[int(i)])\n",
        "\n",
        "\n",
        "# figsize: width, height Inches\n",
        "# dpi: Dots per inch\n",
        "plt.figure( figsize=(8, 4), dpi=100)\n",
        "\n",
        "plt.scatter(iris.data[:, x_index], iris.data[:, y_index],\n",
        "            c=iris.target, cmap=plt.cm.get_cmap('spring', 3))\n",
        "\n",
        "plt.colorbar(ticks=[0, 1, 2], format=formatter)\n",
        "plt.xlabel(iris.feature_names[x_index])\n",
        "plt.ylabel(iris.feature_names[y_index]);"
      ],
      "execution_count": 0,
      "outputs": []
    },
    {
      "metadata": {
        "id": "pu2RQOvXAFxZ",
        "colab_type": "text"
      },
      "cell_type": "markdown",
      "source": [
        "Take a couple minutes and play around with numbers above to see how the chart changes"
      ]
    },
    {
      "metadata": {
        "id": "Br8uxIOosOY0",
        "colab_type": "text"
      },
      "cell_type": "markdown",
      "source": [
        "# Machine Learning with Scikit learn\n",
        "\n",
        "We don't have the time to dive super deep into machine learning, but this will give you a quick overview and some ideas of how to start using machine learning\n",
        "\n",
        "We're going to use a machine learning model called `k-nearest neighbors ` or k-NN for short."
      ]
    },
    {
      "metadata": {
        "id": "O7LfeBGhVkcP",
        "colab_type": "text"
      },
      "cell_type": "markdown",
      "source": [
        "# Why K-NN\n"
      ]
    },
    {
      "metadata": {
        "id": "DyrCB9lZVBto",
        "colab_type": "text"
      },
      "cell_type": "markdown",
      "source": [
        "\n",
        "We want to predict the PROBABILITY of the flower type\n",
        "\n",
        "We're going to use k-nearest neighbors also referred to as kNN\n",
        "\n",
        "kNN takes the 'k' nearest categorized values to uncategorized data and assigns the majority value to the data its trying to categorize. You should be able to see why this model makes sense from our data analysis!\n",
        "\n",
        "The example below has the value 4 for 'k'. So we look at the 4 nearest neighboring data points. 3 of of them are labeled versicolor. So we would assign a high probability that our new data point should be labeled versicolor!\n",
        "\n",
        "\n",
        "![k-NN](https://github.com/sagecodes/intro-machine-learning-old/raw/master/img/knn4.png)\n",
        "\n",
        "\n",
        "These lines are hand drawn and not 100% accurate but you could imagine the predictions falling into the categories like this\n",
        "\n",
        "![k-NN](https://github.com/sagecodes/intro-machine-learning-old/raw/master/img/predictsegments.png)\n",
        "\n",
        "\n",
        "3d exmaple here:\n",
        "\n",
        "https://scikit-learn.org/stable/auto_examples/datasets/plot_iris_dataset.html"
      ]
    },
    {
      "metadata": {
        "id": "-enLXercPjOP",
        "colab_type": "text"
      },
      "cell_type": "markdown",
      "source": [
        "# Training"
      ]
    },
    {
      "metadata": {
        "id": "0uMPJlp2WPkS",
        "colab_type": "text"
      },
      "cell_type": "markdown",
      "source": [
        "- Build the Classifier:\n",
        "- Import the neighbors model\n",
        "- Data is typically denoted as X while labels are denoted with y\n",
        "- assign our classifier with 'k' value to a variable\n",
        "- train(fit) our model\n",
        "- output the prediction\n",
        "- output the probability behind the prediction\n"
      ]
    },
    {
      "metadata": {
        "id": "tDWDcIMNPm7d",
        "colab_type": "code",
        "colab": {}
      },
      "cell_type": "code",
      "source": [
        "from sklearn import neighbors\n",
        "\n",
        "x = iris.data\n",
        "y = iris.target\n",
        "\n",
        "knn = neighbors.KNeighborsClassifier(n_neighbors=4)\n",
        "\n",
        "#pass features and labels into model\n",
        "knn.fit(x, y)\n",
        "\n",
        "# What kind of iris has 3cm x 5cm sepal and 4cm x 2cm petal?\n",
        "# 0 = setosa' 1 = 'versicolor' 2 = 'virginica']\n",
        "# Data: sepal length, sepal width, petal length, petal width\n",
        "\n",
        "# Comment / Uncoomment different flowers below to see the prediction. \n",
        "#test_flower = [3, 5, 4, 2]\n",
        "test_flower = [5.1, 3.5, 1.4, .2]\n",
        "# test_flower = [6, 20, -1, 8]\n",
        "\n",
        "result = knn.predict([test_flower])\n",
        "\n",
        "print(result)\n",
        "\n",
        "knn.predict_proba([test_flower])\n",
        "\n"
      ],
      "execution_count": 0,
      "outputs": []
    },
    {
      "metadata": {
        "id": "3niIo8BDBupk",
        "colab_type": "code",
        "colab": {}
      },
      "cell_type": "code",
      "source": [
        "# Lets make it into a dataframe so we can read it better\n",
        "\n",
        "pred = knn.predict_proba([test_flower])\n",
        "\n",
        "preddf = pd.DataFrame(pred, columns=iris.target_names)"
      ],
      "execution_count": 0,
      "outputs": []
    },
    {
      "metadata": {
        "id": "sVNSqor8B8I2",
        "colab_type": "code",
        "colab": {}
      },
      "cell_type": "code",
      "source": [
        "# output DataFrame\n",
        "preddf"
      ],
      "execution_count": 0,
      "outputs": []
    },
    {
      "metadata": {
        "id": "iXIVmjNwCNG7",
        "colab_type": "code",
        "colab": {}
      },
      "cell_type": "code",
      "source": [
        "# Lets make it a chart so we can read even more easily!\n",
        "preddf.plot(kind='bar');"
      ],
      "execution_count": 0,
      "outputs": []
    },
    {
      "metadata": {
        "id": "qkCi0_vamgbx",
        "colab_type": "text"
      },
      "cell_type": "markdown",
      "source": [
        "### Train / Test  Split\n",
        "\n",
        "Its important to not use the same data you used for training your model to validate it. Something called `overfitting` is likey to occur. Since the model has seen that exact data before it will likely test well on it, but when it sees new data this will likely not be the case. "
      ]
    },
    {
      "metadata": {
        "id": "299uEoGNPr0k",
        "colab_type": "code",
        "colab": {}
      },
      "cell_type": "code",
      "source": [
        "from sklearn.model_selection import train_test_split\n",
        "\n",
        "x_train, x_test, y_train, y_test = train_test_split(x, y, \n",
        "                                                    test_size=0.3,\n",
        "                                                    random_state=21, \n",
        "                                                    stratify=y)\n",
        "\n",
        "\n",
        "knn = neighbors.KNeighborsClassifier(n_neighbors=3)\n",
        "\n",
        "knn.fit(x_train, y_train)\n",
        "\n",
        "y_pred = knn.predict(x_test)\n",
        "\n",
        "print(\"Test Predictions: \\n {}\".format(y_pred))\n",
        "\n",
        "\n",
        "\n",
        "# Print accuracy\n",
        "knn.score(x_test, y_test)"
      ],
      "execution_count": 0,
      "outputs": []
    },
    {
      "metadata": {
        "id": "4CVvAvXungrK",
        "colab_type": "text"
      },
      "cell_type": "markdown",
      "source": [
        "Keep an eye on our [meetup page](https://www.meetup.com/Learn-Code-Seattle/) for the next Intro to Machine Learning Class! We'll dive deeper into various models and when to use them!\n",
        "\n",
        "## Back to github Repo:\n",
        "\n",
        "[https://github.com/sagecodes/intro-data-science](https://github.com/sagecodes/intro-data-science)"
      ]
    },
    {
      "metadata": {
        "id": "veoyuhF21dhJ",
        "colab_type": "code",
        "colab": {}
      },
      "cell_type": "code",
      "source": [
        ""
      ],
      "execution_count": 0,
      "outputs": []
    }
  ]
}